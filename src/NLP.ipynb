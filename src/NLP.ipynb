{
 "cells": [
  {
   "cell_type": "code",
   "execution_count": null,
   "metadata": {},
   "outputs": [
    {
     "name": "stdout",
     "output_type": "stream",
     "text": [
      "showing info https://raw.githubusercontent.com/nltk/nltk_data/gh-pages/index.xml\n"
     ]
    }
   ],
   "source": [
    "import nltk \n",
    "nltk.download()"
   ]
  },
  {
   "cell_type": "code",
   "execution_count": 1,
   "metadata": {},
   "outputs": [
    {
     "name": "stdout",
     "output_type": "stream",
     "text": [
      "['Abagael', 'Abagail', 'Abbe', 'Abbey', 'Abbi', 'Abbie', 'Abby', 'Abigael', 'Abigail', 'Abigale']\n"
     ]
    }
   ],
   "source": [
    "from nltk.corpus import names \n",
    "\n",
    "print (names.words()[:10])"
   ]
  },
  {
   "cell_type": "code",
   "execution_count": 2,
   "metadata": {},
   "outputs": [
    {
     "name": "stdout",
     "output_type": "stream",
     "text": [
      "7944\n"
     ]
    }
   ],
   "source": [
    "print( len(names.words()))"
   ]
  },
  {
   "cell_type": "code",
   "execution_count": 3,
   "metadata": {},
   "outputs": [],
   "source": [
    "from nltk.tokenize import word_tokenize\n",
    "\n",
    "sent = 'I am reading a book. It is Python Machine Learning By Example, 3rd edition.'"
   ]
  },
  {
   "cell_type": "code",
   "execution_count": 4,
   "metadata": {},
   "outputs": [
    {
     "name": "stdout",
     "output_type": "stream",
     "text": [
      "['I', 'am', 'reading', 'a', 'book', '.', 'It', 'is', 'Python', 'Machine', 'Learning', 'By', 'Example', ',', '3rd', 'edition', '.']\n"
     ]
    }
   ],
   "source": [
    "print( word_tokenize(sent))"
   ]
  },
  {
   "cell_type": "code",
   "execution_count": 5,
   "metadata": {},
   "outputs": [
    {
     "name": "stdout",
     "output_type": "stream",
     "text": [
      "['I', 'have', 'been', 'to', 'U.K.', 'and', 'U.S.A', '.']\n"
     ]
    }
   ],
   "source": [
    "sent2 = 'I have been to U.K. and U.S.A.'\n",
    "print( word_tokenize(sent2))"
   ]
  },
  {
   "cell_type": "code",
   "execution_count": 6,
   "metadata": {},
   "outputs": [
    {
     "name": "stdout",
     "output_type": "stream",
     "text": [
      "['I am reading a book.', 'It is Python Machine Learning By Example, 3rd edition.']\n"
     ]
    }
   ],
   "source": [
    "from nltk.tokenize import sent_tokenize\n",
    "print ( sent_tokenize(sent))\n"
   ]
  },
  {
   "cell_type": "code",
   "execution_count": 12,
   "metadata": {},
   "outputs": [
    {
     "name": "stdout",
     "output_type": "stream",
     "text": [
      "[('I', 'PRP'), ('am', 'VBP'), ('reading', 'VBG'), ('a', 'DT'), ('book', 'NN'), ('.', '.'), ('It', 'PRP'), ('is', 'VBZ'), ('Python', 'NNP'), ('Machine', 'NNP'), ('Learning', 'NNP'), ('By', 'IN'), ('Example', 'NNP'), (',', ','), ('3rd', 'CD'), ('edition', 'NN'), ('.', '.')]\n"
     ]
    }
   ],
   "source": [
    "import nltk\n",
    "tokens = word_tokenize(sent)\n",
    "print (nltk.pos_tag(tokens))"
   ]
  },
  {
   "cell_type": "code",
   "execution_count": null,
   "metadata": {},
   "outputs": [
    {
     "name": "stdout",
     "output_type": "stream",
     "text": [
      "PRP: pronoun, personal\n",
      "    hers herself him himself hisself it itself me myself one oneself ours\n",
      "    ourselves ownself self she thee theirs them themselves they thou thy us\n",
      "VBP: verb, present tense, not 3rd person singular\n",
      "    predominate wrap resort sue twist spill cure lengthen brush terminate\n",
      "    appear tend stray glisten obtain comprise detest tease attract\n",
      "    emphasize mold postpone sever return wag ...\n"
     ]
    }
   ],
   "source": [
    "import nltk\n",
    "\n",
    "# Display information about the 'PRP' and 'VBP' tags\n",
    "nltk.help.upenn_tagset('PRP')\n",
    "nltk.help.upenn_tagset('VBP')"
   ]
  },
  {
   "cell_type": "code",
   "execution_count": 15,
   "metadata": {},
   "outputs": [
    {
     "name": "stdout",
     "output_type": "stream",
     "text": [
      "[('man', 'NOUN'), ('suffers', 'VERB'), ('more', 'ADJ'), ('in', 'ADP'), ('imagination', 'NOUN'), ('than', 'ADP'), ('in', 'ADP'), ('reality', 'NOUN'), ('-', 'PUNCT'), ('Seneca', 'NOUN')]\n"
     ]
    }
   ],
   "source": [
    "import spacy \n",
    "\n",
    "#load english model\n",
    "nlp = spacy.load('en_core_web_sm')\n",
    "\n",
    "text = 'man suffers more in imagination than in reality - Seneca'\n",
    "docs = nlp(text)\n",
    "print([(token.text, token.pos_ ) for token in docs ])"
   ]
  },
  {
   "cell_type": "code",
   "execution_count": 16,
   "metadata": {},
   "outputs": [
    {
     "name": "stdout",
     "output_type": "stream",
     "text": [
      "[('Hayden Liu', 'PERSON'), ('2020', 'DATE'), ('30', 'MONEY'), ('America', 'GPE')]\n"
     ]
    }
   ],
   "source": [
    "token3 = nlp('The book written by Hayden Liu in 2020 was sold at $30 in America')\n",
    "print( [(token.text, token.label_) for token in token3.ents])"
   ]
  },
  {
   "cell_type": "code",
   "execution_count": 17,
   "metadata": {},
   "outputs": [
    {
     "data": {
      "text/plain": [
       "'machin'"
      ]
     },
     "execution_count": 17,
     "metadata": {},
     "output_type": "execute_result"
    }
   ],
   "source": [
    "from nltk.stem.porter import PorterStemmer\n",
    "\n",
    "porter_stemmer = PorterStemmer()\n",
    "porter_stemmer.stem('machines')"
   ]
  },
  {
   "cell_type": "code",
   "execution_count": 18,
   "metadata": {},
   "outputs": [
    {
     "data": {
      "text/plain": [
       "'learn'"
      ]
     },
     "execution_count": 18,
     "metadata": {},
     "output_type": "execute_result"
    }
   ],
   "source": [
    "porter_stemmer.stem('learning')"
   ]
  },
  {
   "cell_type": "code",
   "execution_count": 22,
   "metadata": {},
   "outputs": [
    {
     "data": {
      "text/plain": [
       "'learning'"
      ]
     },
     "execution_count": 22,
     "metadata": {},
     "output_type": "execute_result"
    }
   ],
   "source": [
    "from nltk.stem import WordNetLemmatizer\n",
    "import time \n",
    "lemmatizer = WordNetLemmatizer()\n",
    "lemmatizer.lemmatize('machines')\n",
    "time.sleep(1)\n",
    "lemmatizer.lemmatize('learning')\n"
   ]
  },
  {
   "cell_type": "code",
   "execution_count": 23,
   "metadata": {},
   "outputs": [
    {
     "data": {
      "text/plain": [
       "'machine'"
      ]
     },
     "execution_count": 23,
     "metadata": {},
     "output_type": "execute_result"
    }
   ],
   "source": [
    "lemmatizer.lemmatize('machines')"
   ]
  },
  {
   "cell_type": "code",
   "execution_count": 24,
   "metadata": {},
   "outputs": [],
   "source": [
    "from sklearn.datasets import fetch_20newsgroups"
   ]
  },
  {
   "cell_type": "code",
   "execution_count": 25,
   "metadata": {},
   "outputs": [],
   "source": [
    "groups = fetch_20newsgroups()\n"
   ]
  },
  {
   "cell_type": "code",
   "execution_count": 26,
   "metadata": {},
   "outputs": [
    {
     "data": {
      "text/plain": [
       "dict_keys(['data', 'filenames', 'target_names', 'target', 'DESCR'])"
      ]
     },
     "execution_count": 26,
     "metadata": {},
     "output_type": "execute_result"
    }
   ],
   "source": [
    "groups.keys()"
   ]
  },
  {
   "cell_type": "code",
   "execution_count": 27,
   "metadata": {},
   "outputs": [
    {
     "data": {
      "text/plain": [
       "['alt.atheism',\n",
       " 'comp.graphics',\n",
       " 'comp.os.ms-windows.misc',\n",
       " 'comp.sys.ibm.pc.hardware',\n",
       " 'comp.sys.mac.hardware',\n",
       " 'comp.windows.x',\n",
       " 'misc.forsale',\n",
       " 'rec.autos',\n",
       " 'rec.motorcycles',\n",
       " 'rec.sport.baseball',\n",
       " 'rec.sport.hockey',\n",
       " 'sci.crypt',\n",
       " 'sci.electronics',\n",
       " 'sci.med',\n",
       " 'sci.space',\n",
       " 'soc.religion.christian',\n",
       " 'talk.politics.guns',\n",
       " 'talk.politics.mideast',\n",
       " 'talk.politics.misc',\n",
       " 'talk.religion.misc']"
      ]
     },
     "execution_count": 27,
     "metadata": {},
     "output_type": "execute_result"
    }
   ],
   "source": [
    "groups['target_names']\n"
   ]
  },
  {
   "cell_type": "code",
   "execution_count": null,
   "metadata": {},
   "outputs": [
    {
     "data": {
      "text/plain": [
       "array([7, 4, 4, ..., 3, 1, 8])"
      ]
     },
     "execution_count": 28,
     "metadata": {},
     "output_type": "execute_result"
    }
   ],
   "source": [
    "groups.target"
   ]
  },
  {
   "cell_type": "code",
   "execution_count": 29,
   "metadata": {},
   "outputs": [
    {
     "data": {
      "text/plain": [
       "array([ 0,  1,  2,  3,  4,  5,  6,  7,  8,  9, 10, 11, 12, 13, 14, 15, 16,\n",
       "       17, 18, 19])"
      ]
     },
     "execution_count": 29,
     "metadata": {},
     "output_type": "execute_result"
    }
   ],
   "source": [
    "import numpy as np \n",
    "np.unique(groups.target)"
   ]
  },
  {
   "cell_type": "code",
   "execution_count": 30,
   "metadata": {},
   "outputs": [
    {
     "data": {
      "image/png": "[encoded data removed]",
      "text/plain": [
       "<Figure size 500x500 with 1 Axes>"
      ]
     },
     "metadata": {},
     "output_type": "display_data"
    }
   ],
   "source": [
    "import seaborn as sns \n",
    "import matplotlib.pyplot as plt\n",
    "sns.displot(groups.target)\n",
    "plt.show()"
   ]
  },
  {
   "cell_type": "code",
   "execution_count": 32,
   "metadata": {},
   "outputs": [
    {
     "data": {
      "text/plain": [
       "\"From: lerxst@wam.umd.edu (where's my thing)\\nSubject: WHAT car is this!?\\nNntp-Posting-Host: rac3.wam.umd.edu\\nOrganization: University of Maryland, College Park\\nLines: 15\\n\\n I was wondering if anyone out there could enlighten me on this car I saw\\nthe other day. It was a 2-door sports car, looked to be from the late 60s/\\nearly 70s. It was called a Bricklin. The doors were really small. In addition,\\nthe front bumper was separate from the rest of the body. This is \\nall I know. If anyone can tellme a model name, engine specs, years\\nof production, where this car is made, history, or whatever info you\\nhave on this funky looking car, please e-mail.\\n\\nThanks,\\n- IL\\n   ---- brought to you by your neighborhood Lerxst ----\\n\\n\\n\\n\\n\""
      ]
     },
     "execution_count": 32,
     "metadata": {},
     "output_type": "execute_result"
    }
   ],
   "source": [
    "groups.data[0]"
   ]
  },
  {
   "cell_type": "code",
   "execution_count": 34,
   "metadata": {},
   "outputs": [
    {
     "data": {
      "text/plain": [
       "'rec.autos'"
      ]
     },
     "execution_count": 34,
     "metadata": {},
     "output_type": "execute_result"
    }
   ],
   "source": [
    "groups.target[0]\n",
    "groups.target_names[groups.target[0]]"
   ]
  },
  {
   "cell_type": "code",
   "execution_count": 35,
   "metadata": {},
   "outputs": [
    {
     "data": {
      "text/plain": [
       "7"
      ]
     },
     "execution_count": 35,
     "metadata": {},
     "output_type": "execute_result"
    }
   ],
   "source": [
    "groups.target[0]"
   ]
  },
  {
   "cell_type": "code",
   "execution_count": 36,
   "metadata": {},
   "outputs": [
    {
     "data": {
      "text/plain": [
       "(11314, 500)"
      ]
     },
     "execution_count": 36,
     "metadata": {},
     "output_type": "execute_result"
    }
   ],
   "source": [
    "from sklearn.feature_extraction.text import CountVectorizer\n",
    "count_vector = CountVectorizer(max_features=500)\n",
    "data_count = count_vector.fit_transform(groups.data)\n",
    "data_count.shape"
   ]
  },
  {
   "cell_type": "code",
   "execution_count": null,
   "metadata": {},
   "outputs": [
    {
     "data": {
      "text/plain": [
       "<1x500 sparse matrix of type '<class 'numpy.int64'>'\n",
       "\twith 53 stored elements in Compressed Sparse Row format>"
      ]
     },
     "execution_count": 37,
     "metadata": {},
     "output_type": "execute_result"
    }
   ],
   "source": [
    "data_count[1]"
   ]
  },
  {
   "cell_type": "code",
   "execution_count": 38,
   "metadata": {},
   "outputs": [
    {
     "data": {
      "text/plain": [
       "array([[0, 0, 0, ..., 0, 2, 1],\n",
       "       [0, 0, 0, ..., 0, 1, 1],\n",
       "       [0, 0, 0, ..., 0, 1, 0],\n",
       "       ...,\n",
       "       [0, 0, 0, ..., 1, 1, 0],\n",
       "       [0, 0, 0, ..., 0, 1, 0],\n",
       "       [0, 0, 0, ..., 0, 0, 0]], dtype=int64)"
      ]
     },
     "execution_count": 38,
     "metadata": {},
     "output_type": "execute_result"
    }
   ],
   "source": [
    "data_count.toarray()"
   ]
  },
  {
   "cell_type": "code",
   "execution_count": 39,
   "metadata": {},
   "outputs": [
    {
     "data": {
      "text/plain": [
       "array([[0, 0, 0, 0, 0, 0, 0, 0, 0, 1, 0, 0, 0, 0, 0, 0, 0, 0, 0, 0, 0, 0,\n",
       "        0, 0, 0, 0, 0, 0, 0, 0, 0, 0, 0, 0, 0, 0, 0, 0, 0, 0, 0, 1, 0, 0,\n",
       "        0, 0, 0, 0, 0, 0, 0, 0, 0, 2, 0, 0, 0, 0, 0, 0, 0, 0, 0, 0, 0, 0,\n",
       "        0, 0, 0, 0, 0, 0, 0, 1, 0, 0, 0, 0, 0, 0, 0, 0, 0, 0, 0, 0, 0, 0,\n",
       "        0, 0, 1, 0, 0, 1, 0, 1, 0, 0, 5, 0, 0, 0, 0, 0, 0, 0, 0, 0, 0, 0,\n",
       "        0, 0, 0, 0, 0, 1, 0, 0, 0, 0, 0, 1, 0, 0, 0, 0, 0, 0, 0, 0, 0, 0,\n",
       "        0, 0, 0, 0, 0, 0, 0, 0, 0, 2, 0, 0, 0, 0, 0, 0, 0, 0, 0, 0, 0, 0,\n",
       "        0, 0, 0, 0, 0, 0, 0, 0, 0, 0, 0, 0, 0, 3, 0, 0, 0, 0, 0, 0, 0, 0,\n",
       "        0, 0, 0, 0, 0, 0, 0, 0, 0, 0, 0, 0, 0, 0, 0, 0, 0, 1, 0, 0, 0, 0,\n",
       "        0, 0, 0, 0, 0, 0, 0, 1, 0, 0, 0, 0, 0, 0, 2, 0, 0, 1, 0, 1, 0, 0,\n",
       "        0, 0, 0, 3, 0, 0, 0, 2, 0, 0, 0, 0, 0, 0, 0, 0, 0, 0, 1, 0, 0, 0,\n",
       "        0, 0, 0, 0, 0, 0, 0, 1, 0, 0, 0, 0, 0, 0, 0, 1, 0, 0, 1, 1, 0, 0,\n",
       "        0, 0, 0, 0, 0, 0, 1, 0, 0, 0, 0, 0, 0, 0, 0, 0, 0, 0, 0, 0, 0, 1,\n",
       "        1, 0, 0, 0, 0, 0, 0, 0, 0, 0, 1, 0, 0, 0, 0, 0, 0, 0, 3, 0, 0, 2,\n",
       "        0, 0, 0, 0, 0, 1, 0, 0, 1, 1, 0, 0, 1, 0, 0, 0, 0, 0, 0, 0, 0, 0,\n",
       "        0, 0, 0, 1, 0, 0, 0, 1, 0, 0, 0, 0, 0, 0, 0, 0, 0, 0, 0, 0, 0, 0,\n",
       "        0, 0, 0, 1, 0, 0, 0, 0, 0, 0, 0, 0, 0, 0, 0, 0, 0, 0, 0, 0, 0, 0,\n",
       "        0, 0, 0, 0, 0, 0, 0, 0, 0, 0, 0, 0, 0, 1, 0, 0, 0, 0, 0, 0, 0, 0,\n",
       "        0, 0, 0, 0, 0, 0, 0, 1, 0, 0, 0, 0, 0, 0, 0, 0, 0, 0, 0, 1, 0, 6,\n",
       "        0, 0, 0, 1, 0, 0, 1, 0, 0, 5, 0, 0, 0, 0, 0, 0, 0, 2, 0, 0, 0, 0,\n",
       "        0, 0, 0, 0, 0, 0, 0, 0, 1, 0, 0, 0, 0, 0, 0, 0, 0, 0, 0, 0, 0, 0,\n",
       "        0, 0, 4, 0, 0, 0, 0, 1, 1, 0, 2, 0, 0, 0, 0, 0, 0, 0, 0, 0, 0, 0,\n",
       "        0, 0, 0, 0, 0, 0, 0, 0, 0, 0, 0, 1, 0, 0, 2, 1]], dtype=int64)"
      ]
     },
     "execution_count": 39,
     "metadata": {},
     "output_type": "execute_result"
    }
   ],
   "source": [
    "data_count[0].toarray()"
   ]
  },
  {
   "cell_type": "code",
   "execution_count": null,
   "metadata": {},
   "outputs": [
    {
     "name": "stdout",
     "output_type": "stream",
     "text": [
      "['00' '000' '10' '100' '11' '12' '13' '14' '145' '15' '16' '17' '18' '19'\n",
      " '1993' '20' '21' '22' '23' '24' '25' '26' '27' '30' '32' '34' '40' '50'\n",
      " '93' 'a86' 'able' 'about' 'above' 'ac' 'access' 'actually' 'address'\n",
      " 'after' 'again' 'against' 'ago' 'all' 'already' 'also' 'always' 'am'\n",
      " 'american' 'an' 'and' 'andrew' 'another' 'answer' 'any' 'anyone'\n",
      " 'anything' 'apple' 'apr' 'april' 'are' 'armenian' 'around' 'article' 'as'\n",
      " 'ask' 'at' 'au' 'available' 'away' 'ax' 'b8f' 'back' 'bad' 'based' 'be'\n",
      " 'because' 'been' 'before' 'being' 'believe' 'best' 'better' 'between'\n",
      " 'bible' 'big' 'bill' 'bit' 'book' 'both' 'but' 'buy' 'by' 'ca' 'call'\n",
      " 'called' 'came' 'can' 'canada' 'cannot' 'car' 'card' 'case' 'cc' 'center'\n",
      " 'change' 'children' 'chip' 'christian' 'clipper' 'co' 'code' 'color'\n",
      " 'com' 'come' 'computer' 'control' 'could' 'course' 'cs' 'current' 'data'\n",
      " 'david' 'day' 'days' 'de' 'department' 'did' 'didn' 'different' 'disk'\n",
      " 'distribution' 'do' 'does' 'doesn' 'doing' 'don' 'done' 'dos' 'down'\n",
      " 'drive' 'during' 'each' 'edu' 'either' 'else' 'email' 'encryption' 'end'\n",
      " 'enough' 'etc' 'even' 'ever' 'every' 'everything' 'evidence' 'example'\n",
      " 'fact' 'far' 'fax' 'few' 'file' 'files' 'find' 'first' 'following' 'for'\n",
      " 'found' 'free' 'from' 'ftp' 'full' 'g9v' 'game' 'games' 'general' 'get'\n",
      " 'getting' 'give' 'given' 'go' 'god' 'going' 'good' 'got' 'gov'\n",
      " 'government' 'graphics' 'great' 'group' 'gun' 'had' 'hand' 'hard' 'has'\n",
      " 'have' 'having' 'he' 'heard' 'help' 'her' 'here' 'high' 'him' 'his'\n",
      " 'home' 'hope' 'host' 'how' 'however' 'hp' 'human' 'ibm' 'idea' 'if'\n",
      " 'image' 'important' 'in' 'inc' 'info' 'information' 'institute'\n",
      " 'interested' 'internet' 'into' 'is' 'isn' 'israel' 'issue' 'it' 'its'\n",
      " 'jesus' 'jews' 'jim' 'john' 'just' 'keep' 'key' 'keywords' 'kind' 'know'\n",
      " 'large' 'last' 'law' 'least' 'left' 'less' 'let' 'life' 'like' 'line'\n",
      " 'lines' 'list' 'little' 'live' 'll' 'local' 'long' 'look' 'looking' 'lot'\n",
      " 'mac' 'made' 'mail' 'make' 'makes' 'man' 'many' 'mark' 'max' 'may'\n",
      " 'maybe' 'me' 'mean' 'means' 'memory' 'message' 'michael' 'might' 'mike'\n",
      " 'mit' 'money' 'more' 'most' 'mr' 'much' 'must' 'my' 'name' 'nasa'\n",
      " 'national' 'need' 'net' 'netcom' 'never' 'new' 'news' 'next' 'nntp' 'no'\n",
      " 'non' 'not' 'note' 'nothing' 'now' 'number' 'of' 'off' 'old' 'on' 'once'\n",
      " 'one' 'only' 'open' 'opinions' 'or' 'order' 'org' 'organization' 'other'\n",
      " 'others' 'our' 'out' 'over' 'own' 'part' 'paul' 'pc' 'people' 'perhaps'\n",
      " 'person' 'phone' 'pl' 'place' 'play' 'please' 'point' 'possible' 'post'\n",
      " 'posting' 'power' 'president' 'pretty' 'price' 'probably' 'problem'\n",
      " 'problems' 'program' 'public' 'put' 'question' 'questions' 'quite'\n",
      " 'rather' 're' 'read' 'real' 'really' 'reason' 'remember' 'reply'\n",
      " 'research' 'right' 'rights' 'robert' 'run' 'running' 'said' 'sale' 'same'\n",
      " 'say' 'saying' 'says' 'science' 'scsi' 'second' 'see' 'seem' 'seems'\n",
      " 'seen' 'send' 'server' 'set' 'several' 'she' 'should' 'show' 'side'\n",
      " 'since' 'small' 'so' 'software' 'some' 'someone' 'something' 'source'\n",
      " 'space' 'speed' 'standard' 'start' 'state' 'states' 'steve' 'still'\n",
      " 'stuff' 'subject' 'such' 'sun' 'support' 'sure' 'system' 'systems' 'take'\n",
      " 'team' 'technology' 'tell' 'than' 'thanks' 'that' 'the' 'their' 'them'\n",
      " 'then' 'there' 'these' 'they' 'thing' 'things' 'think' 'this' 'those'\n",
      " 'though' 'thought' 'three' 'through' 'time' 'times' 'to' 'today' 'told'\n",
      " 'too' 'true' 'try' 'trying' 'turkish' 'two' 'type' 'uiuc' 'uk' 'under'\n",
      " 'university' 'unix' 'until' 'up' 'us' 'usa' 'use' 'used' 'using' 'uucp'\n",
      " 've' 'version' 'very' 'vs' 'want' 'war' 'was' 'washington' 'way' 'we'\n",
      " 'well' 'were' 'what' 'when' 'where' 'whether' 'which' 'while' 'who'\n",
      " 'whole' 'why' 'will' 'win' 'window' 'windows' 'with' 'without' 'won'\n",
      " 'word' 'work' 'works' 'world' 'would' 'writes' 'wrong' 'wrote' 'year'\n",
      " 'years' 'yes' 'yet' 'you' 'your']\n"
     ]
    }
   ],
   "source": [
    "print(count_vector.get_feature_names_out())"
   ]
  },
  {
   "cell_type": "code",
   "execution_count": null,
   "metadata": {},
   "outputs": [],
   "source": [
    "data_cleaned = []\n",
    "for _ in groups.data:\n",
    "    cleaned_text = ' '.join(word for word in _.split() if word.isalpha())\n",
    "    data_cleaned.append(cleaned_text)"
   ]
  },
  {
   "cell_type": "code",
   "execution_count": null,
   "metadata": {},
   "outputs": [],
   "source": []
  }
 ],
 "metadata": {
  "kernelspec": {
   "display_name": "Python 3",
   "language": "python",
   "name": "python3"
  },
  "language_info": {
   "codemirror_mode": {
    "name": "ipython",
    "version": 3
   },
   "file_extension": ".py",
   "mimetype": "text/x-python",
   "name": "python",
   "nbconvert_exporter": "python",
   "pygments_lexer": "ipython3",
   "version": "3.10.13"
  }
 },
 "nbformat": 4,
 "nbformat_minor": 2
}
